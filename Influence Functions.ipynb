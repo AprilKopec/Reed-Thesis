{
  "cells": [
    {
      "cell_type": "code",
      "execution_count": 2,
      "metadata": {
        "trusted": true
      },
      "outputs": [],
      "source": [
        "from scipy.optimize import curve_fit\n",
        "import numpy as np\n",
        "import matplotlib.pyplot as plt\n",
        "\n",
        "def linear(x, slope, intercept):\n",
        "    return slope*x + intercept\n",
        "\n",
        "def cost(func, params, xdata, ydata):\n",
        "    squared_error = func(xdata, *params) - ydata\n",
        "    return sum(squared_error)"
      ]
    },
    {
      "cell_type": "markdown",
      "metadata": {},
      "source": [
        "This function calculates the parameters which result from retraining with an additional datapoint *new* that is weighted by some amount *epsilon*."
      ]
    },
    {
      "cell_type": "code",
      "execution_count": 3,
      "metadata": {
        "trusted": true
      },
      "outputs": [],
      "source": [
        "# Influence functions are defined as the first-order Taylor approximation of this around epsilon = 0\n",
        "# Or maybe the derivative if it's more convenient to subtract off the value at 0, I think I've seen both definitions\n",
        "def response_function(new, epsilon, func, xdata, ydata):\n",
        "    if epsilon == 0:\n",
        "        params, _ = curve_fit(func, xdata, ydata)\n",
        "        return params\n",
        "    else:\n",
        "        newxdata = np.concatenate((np.array([new[0]]), xdata))\n",
        "        newydata = np.concatenate((np.array([new[1]]), ydata))\n",
        "        weights = np.array([epsilon] + [1 for _ in xdata])\n",
        "        params, _ = curve_fit(func, newxdata, newydata, sigma=1.0/weights)\n",
        "        return params"
      ]
    },
    {
      "cell_type": "code",
      "execution_count": 4,
      "metadata": {
        "trusted": true
      },
      "outputs": [],
      "source": [
        "xdata = np.array([0, 1, 2])\n",
        "ydata = np.array([0, 1.5, 2])"
      ]
    },
    {
      "cell_type": "markdown",
      "metadata": {},
      "source": [
        "Why is x-y propotional to epsilon^2, rather than epsilon?"
      ]
    },
    {
      "cell_type": "code",
      "execution_count": 5,
      "metadata": {},
      "outputs": [
        {
          "name": "stdout",
          "output_type": "stream",
          "text": [
            "[1.         0.16666667]\n",
            "[ 0.08333326 -0.13888877]\n"
          ]
        },
        {
          "data": {
            "image/png": "[encoded data removed]",
            "text/plain": [
              "<Figure size 640x480 with 1 Axes>"
            ]
          },
          "metadata": {},
          "output_type": "display_data"
        }
      ],
      "source": [
        "epsilon = 0.001\n",
        "z = (0,0)\n",
        "x = response_function(z, epsilon, linear, xdata, ydata)\n",
        "y = response_function(z, 0, linear, xdata, ydata)\n",
        "print(f'Initial model: {y}')\n",
        "print(f'Influence of {z} on theta: {(x-y)/(epsilon**2)}')\n",
        "plt.plot(xdata, linear(xdata, *y), color='green')\n",
        "plt.scatter(xdata,ydata)\n",
        "plt.show()"
      ]
    },
    {
      "cell_type": "markdown",
      "metadata": {},
      "source": [
        "This looks at each data point in the training data, and computes how much changing its weight impacts the cost function. It then sorts the data points by how much increasing their weight decreases the cost function."
      ]
    },
    {
      "cell_type": "code",
      "execution_count": 6,
      "metadata": {},
      "outputs": [],
      "source": [
        "def order_by_cost_influence(epsilon, func, xdata, ydata, cost):\n",
        "    influences = []\n",
        "    for i in range(len(xdata)):\n",
        "        params0 = response_function((xdata[i],ydata[i]), 0, func, xdata, ydata)\n",
        "        params1 = response_function((xdata[i],ydata[i]), epsilon, func, xdata, ydata)\n",
        "        cost0 = cost(func, params0, xdata, ydata)\n",
        "        cost1 = cost(func, params1, xdata, ydata)\n",
        "        influences += [(cost1 - cost0)/epsilon]\n",
        "    data = [((xdata[i], ydata[i]), influences[i]) for i in range(len(xdata))]\n",
        "    return sorted(data, key = lambda x: x[1])"
      ]
    },
    {
      "cell_type": "code",
      "execution_count": 7,
      "metadata": {
        "trusted": true
      },
      "outputs": [
        {
          "name": "stdout",
          "output_type": "stream",
          "text": [
            "[((0, 0.0), -0.09090909090928878), ((2, 2.0), -0.09090909090928845), ((1, 1.5), 0.2500000000054533)]\n",
            "[((0, 0.0), -0.016528925867196342), ((2, 2.0), -0.016528925865653132), ((1, 1.5), 0.033222536090563026)]\n",
            "[((2, 2.0), -0.0016665277831173775), ((0, 0.0), -0.0016665277830840708), ((1, 1.5), 0.003333222236845401)]\n",
            "[((2, 2.0), -0.00016666652513652735), ((0, 0.0), -0.00016666652469243814), ((1, 1.5), 0.00033147602693239797)]\n"
          ]
        }
      ],
      "source": [
        "model = linear\n",
        "\n",
        "print(order_by_cost_influence(1, model, xdata, ydata, cost))\n",
        "print(order_by_cost_influence(0.1, model, xdata, ydata, cost))\n",
        "print(order_by_cost_influence(0.01, model, xdata, ydata, cost))\n",
        "print(order_by_cost_influence(0.001, model, xdata, ydata, cost))"
      ]
    }
  ],
  "metadata": {
    "kernelspec": {
      "display_name": "venv",
      "language": "python",
      "name": "python3"
    },
    "language_info": {
      "codemirror_mode": {
        "name": "ipython",
        "version": 3
      },
      "file_extension": ".py",
      "mimetype": "text/x-python",
      "name": "python",
      "nbconvert_exporter": "python",
      "pygments_lexer": "ipython3",
      "version": "3.11.4"
    }
  },
  "nbformat": 4,
  "nbformat_minor": 4
}
