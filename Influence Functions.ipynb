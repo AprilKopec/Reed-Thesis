{
  "metadata": {
    "language_info": {
      "codemirror_mode": {
        "name": "python",
        "version": 3
      },
      "file_extension": ".py",
      "mimetype": "text/x-python",
      "name": "python",
      "nbconvert_exporter": "python",
      "pygments_lexer": "ipython3",
      "version": "3.8"
    },
    "kernelspec": {
      "name": "python",
      "display_name": "Python (Pyodide)",
      "language": "python"
    }
  },
  "nbformat_minor": 4,
  "nbformat": 4,
  "cells": [
    {
      "cell_type": "code",
      "source": "from scipy.optimize import curve_fit\nimport numpy as np\nimport matplotlib.pyplot as plt",
      "metadata": {
        "trusted": true
      },
      "execution_count": 3,
      "outputs": []
    },
    {
      "cell_type": "code",
      "source": "def linear(x, slope, intercept):\n    return slope*x + intercept\n\ndef cost(func, params, xdata, ydata):\n    squared_error = func(xdata, *params) - ydata\n    return sum(squared_error)",
      "metadata": {
        "trusted": true
      },
      "execution_count": 4,
      "outputs": []
    },
    {
      "cell_type": "markdown",
      "source": "This function calculates the parameters which result from retraining with an additional datapoint *new* that is weighted by some amount *epsilon*.",
      "metadata": {}
    },
    {
      "cell_type": "code",
      "source": "# Influence functions are defined as the first-order Taylor approximation of this around epsilon = 0\n# Or maybe the derivative if it's more convenient to subtract off the value at 0, I think I've seen both definitions\ndef response_function(new, epsilon, func, xdata, ydata):\n    if epsilon == 0:\n        params, _ = curve_fit(func, xdata, ydata)\n        return params\n    else:\n        newxdata = np.concatenate((np.array([new[0]]), xdata))\n        newydata = np.concatenate((np.array([new[1]]), ydata))\n        weights = np.array([epsilon] + [1 for _ in xdata])\n        params, _ = curve_fit(func, newxdata, newydata, sigma=1.0/weights)\n        return params",
      "metadata": {
        "trusted": true
      },
      "execution_count": 5,
      "outputs": []
    },
    {
      "cell_type": "markdown",
      "source": "This looks at each data point in the training data, and computes how much changing its weight impacts the cost function. It then sorts the data points by how much increasing their weight decreases the cost function.",
      "metadata": {}
    },
    {
      "cell_type": "code",
      "source": "def order_by_cost_influence(epsilon, func, xdata, ydata, cost):\n    influences = []\n    for i in range(len(xdata)):\n        params0 = response_function((xdata[i],ydata[i]), 0, func, xdata, ydata)\n        params1 = response_function((xdata[i],ydata[i]), epsilon, func, xdata, ydata)\n        cost0 = cost(func, params0, xdata, ydata)\n        cost1 = cost(func, params1, xdata, ydata)\n        influences += [(cost1 - cost0)/epsilon]\n    data = [((xdata[i], ydata[i]), influences[i]) for i in range(len(xdata))]\n    return sorted(data, key = lambda x: x[1])",
      "metadata": {},
      "execution_count": null,
      "outputs": []
    },
    {
      "cell_type": "code",
      "source": "xdata = np.array([0, 1, 2, 3, 4, 3])\nydata = np.array([0, 1, 2, 3, 4, 5])",
      "metadata": {
        "trusted": true
      },
      "execution_count": 25,
      "outputs": []
    },
    {
      "cell_type": "markdown",
      "source": "Influence functions being a good approximation of response functions assumes that we should see our results vary linearly with epsilon, for small epsilon. For linear models, this does seem to hold.",
      "metadata": {}
    },
    {
      "cell_type": "code",
      "source": "model = linear\n\nprint(order_by_cost_influence(1, model, xdata, ydata, cost))\nprint(order_by_cost_influence(0.1, model, xdata, ydata, cost))\nprint(order_by_cost_influence(0.01, model, xdata, ydata, cost))\nprint(order_by_cost_influence(0.001, model, xdata, ydata, cost))\nplt.scatter(xdata,ydata)\nplt.show()",
      "metadata": {
        "trusted": true
      },
      "execution_count": 26,
      "outputs": [
        {
          "name": "stdout",
          "text": "[((4, 4), -0.41666666666757735), ((3, 3), -0.37500000000081934), ((2, 2), -0.2631578947374189), ((1, 1), -0.11904761904788219), ((0, 0), 0.0), ((3, 5), 1.2500000000027272)]\n[((4, 4), -0.06124636369525316), ((3, 3), -0.04604758267370501), ((2, 2), -0.030717225572602924), ((1, 1), -0.015339776296805496), ((0, 0), -3.703215512018687e-10), ((3, 5), 0.15349194075893413)]\n[((4, 4), -0.006153552678900276), ((3, 3), -0.0046152781084440875), ((2, 2), -0.003076871003404591), ((1, 1), -0.00153841656296283), ((0, 0), 9.325873406851315e-12), ((3, 5), 0.015385785505772631)]\n[((4, 4), -0.0006153843208345222), ((3, 3), -0.000452248342774908), ((2, 2), -0.0003076922538980398), ((1, 1), -0.00015384610607682703), ((0, 0), 4.440892098500626e-12), ((3, 5), 0.0015384611928848102)]\n",
          "output_type": "stream"
        },
        {
          "output_type": "display_data",
          "data": {
            "text/plain": "<Figure size 640x480 with 1 Axes>",
            "image/png": "[encoded data removed]"
          },
          "metadata": {}
        }
      ]
    },
    {
      "cell_type": "code",
      "source": "",
      "metadata": {},
      "execution_count": null,
      "outputs": []
    },
    {
      "cell_type": "code",
      "source": "",
      "metadata": {},
      "execution_count": null,
      "outputs": []
    }
  ]
}