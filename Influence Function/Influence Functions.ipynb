{
  "cells": [
    {
      "cell_type": "code",
      "execution_count": 121,
      "metadata": {
        "trusted": true
      },
      "outputs": [],
      "source": [
        "from scipy.optimize import curve_fit\n",
        "import numpy as np\n",
        "import matplotlib.pyplot as plt\n",
        "\n",
        "def linear(x, slope, intercept):\n",
        "    return slope*x + intercept\n",
        "\n",
        "def logit(p):\n",
        "    return np.log(p/(1-p))\n",
        "\n",
        "def inv_logit(alpha):\n",
        "    return np.exp(alpha)/(np.exp(alpha)+1)\n",
        "\n",
        "def logistic(x, beta_0, beta_1):\n",
        "    return inv_logit(linear(x, beta_0, beta_1))\n",
        "\n"
      ]
    },
    {
      "cell_type": "code",
      "execution_count": 189,
      "metadata": {
        "trusted": true
      },
      "outputs": [],
      "source": [
        "# Linear Regression example\n",
        "model = logistic\n",
        "param_count = 2\n",
        "step_size = 2**-8\n",
        "differential_length = 2**-16\n",
        "epoch_count = 2**10\n",
        "\n",
        "def squared_error(params, x, y):\n",
        "    squared_error = (model(x, *params) - y)**2\n",
        "    return squared_error\n",
        "\n",
        "def surprisal(params, x, y):\n",
        "    prob = model(x, *params)\n",
        "    if y:\n",
        "        return -np.log(prob)\n",
        "    else:\n",
        "        return -np.log(1-prob)\n",
        "\n",
        "\n",
        "loss = surprisal\n",
        "\n",
        "xdata = np.array([5, 8, 7, 3, 6, 4, 1, 9])\n",
        "ydata = [1, 1, 1, 0, 1, 0, 0, 1]"
      ]
    },
    {
      "cell_type": "code",
      "execution_count": 183,
      "metadata": {},
      "outputs": [],
      "source": [
        "def descent_step(params, x, y, weight):\n",
        "    gradient = np.zeros(param_count)\n",
        "    for i in range(param_count):\n",
        "        d = np.zeros(param_count)\n",
        "        d[i] = differential_length\n",
        "        directional_derivative = (loss(params+d, x, y) - loss(params, x, y))/differential_length\n",
        "        gradient[i] = directional_derivative\n",
        "    params = params - weight*gradient*step_size\n",
        "    return params\n",
        "\n",
        "\n",
        "def epoch(params, xdata, ydata, weights):\n",
        "    for i in range(len(xdata)):\n",
        "        params = descent_step(params, xdata[i], ydata[i], weights[i])\n",
        "    return params\n",
        "\n",
        "def gradient_descent(params, xdata, ydata, weights):\n",
        "    for _ in range(epoch_count):\n",
        "        params = epoch(params, xdata, ydata, weights)\n",
        "    return params"
      ]
    },
    {
      "cell_type": "markdown",
      "metadata": {},
      "source": [
        "This function calculates the parameters which result from retraining with an additional datapoint *new* that is weighted by some amount *epsilon*."
      ]
    },
    {
      "cell_type": "code",
      "execution_count": 184,
      "metadata": {
        "trusted": true
      },
      "outputs": [],
      "source": [
        "# Influence functions are defined as the first-order Taylor approximation of this around epsilon = 0\n",
        "# Or maybe the derivative if it's more convenient to subtract off the value at 0, I think I've seen both definitions\n",
        "def response_function(new_data, epsilon, xdata, ydata):\n",
        "    newxdata = np.concatenate((np.array([new_data[0]]), xdata))\n",
        "    newydata = np.concatenate((np.array([new_data[1]]), ydata))\n",
        "    weights = np.array([epsilon] + [1 for _ in xdata])\n",
        "    params = gradient_descent(np.zeros(param_count), newxdata, newydata, weights)\n",
        "    return params"
      ]
    },
    {
      "cell_type": "code",
      "execution_count": 191,
      "metadata": {},
      "outputs": [
        {
          "name": "stdout",
          "output_type": "stream",
          "text": [
            "Initial model: [ 0.72570523 -2.73020194]\n",
            "Influence of (0, 0) on theta: [nan nan]\n"
          ]
        },
        {
          "name": "stderr",
          "output_type": "stream",
          "text": [
            "C:\\Users\\april\\AppData\\Local\\Temp\\ipykernel_8692\\550464618.py:6: RuntimeWarning: invalid value encountered in divide\n",
            "  print(f'Influence of {z} on theta: {(x-y)/(epsilon)}')\n"
          ]
        },
        {
          "data": {
            "image/png": "[encoded data removed]",
            "text/plain": [
              "<Figure size 640x480 with 1 Axes>"
            ]
          },
          "metadata": {},
          "output_type": "display_data"
        }
      ],
      "source": [
        "epsilon = 0\n",
        "z = (0,0)\n",
        "x = response_function(z, epsilon, xdata, ydata)\n",
        "y = response_function(z, 0, xdata, ydata)\n",
        "print(f'Initial model: {y}')\n",
        "print(f'Influence of {z} on theta: {(x-y)/(epsilon)}')\n",
        "linspace = np.linspace(xdata.min(), xdata.max(), 500)\n",
        "\n",
        "plt.plot(linspace, model(linspace, *y), color='green')\n",
        "plt.scatter(xdata,ydata)\n",
        "plt.show()"
      ]
    },
    {
      "cell_type": "markdown",
      "metadata": {},
      "source": [
        "This looks at each data point in the training data, and computes how much changing its weight impacts the cost function. It then sorts the data points by how much increasing their weight decreases the cost function."
      ]
    },
    {
      "cell_type": "code",
      "execution_count": null,
      "metadata": {},
      "outputs": [],
      "source": [
        "def order_by_cost_influence(epsilon, func, xdata, ydata, cost):\n",
        "    influences = []\n",
        "    for i in range(len(xdata)):\n",
        "        params0 = response_function((xdata[i],ydata[i]), 0, func, xdata, ydata)\n",
        "        params1 = response_function((xdata[i],ydata[i]), epsilon, func, xdata, ydata)\n",
        "        cost0 = cost(func, params0, xdata, ydata)\n",
        "        cost1 = cost(func, params1, xdata, ydata)\n",
        "        influences += [(cost1 - cost0)/epsilon]\n",
        "    data = [((xdata[i], ydata[i]), influences[i]) for i in range(len(xdata))]\n",
        "    return sorted(data, key = lambda x: x[1])"
      ]
    },
    {
      "cell_type": "code",
      "execution_count": null,
      "metadata": {
        "trusted": true
      },
      "outputs": [
        {
          "name": "stdout",
          "output_type": "stream",
          "text": [
            "[((0, 0.0), -0.09090909090928878), ((2, 2.0), -0.09090909090928845), ((1, 1.5), 0.2500000000054533)]\n",
            "[((0, 0.0), -0.016528925867196342), ((2, 2.0), -0.016528925865653132), ((1, 1.5), 0.033222536090563026)]\n",
            "[((2, 2.0), -0.0016665277831173775), ((0, 0.0), -0.0016665277830840708), ((1, 1.5), 0.003333222236845401)]\n",
            "[((2, 2.0), -0.00016666652513652735), ((0, 0.0), -0.00016666652469243814), ((1, 1.5), 0.00033147602693239797)]\n"
          ]
        }
      ],
      "source": [
        "model = linear\n",
        "\n",
        "print(order_by_cost_influence(1, model, xdata, ydata, cost))\n",
        "print(order_by_cost_influence(0.1, model, xdata, ydata, cost))\n",
        "print(order_by_cost_influence(0.01, model, xdata, ydata, cost))\n",
        "print(order_by_cost_influence(0.001, model, xdata, ydata, cost))"
      ]
    }
  ],
  "metadata": {
    "kernelspec": {
      "display_name": "venv",
      "language": "python",
      "name": "python3"
    },
    "language_info": {
      "codemirror_mode": {
        "name": "ipython",
        "version": 3
      },
      "file_extension": ".py",
      "mimetype": "text/x-python",
      "name": "python",
      "nbconvert_exporter": "python",
      "pygments_lexer": "ipython3",
      "version": "3.11.4"
    }
  },
  "nbformat": 4,
  "nbformat_minor": 4
}
