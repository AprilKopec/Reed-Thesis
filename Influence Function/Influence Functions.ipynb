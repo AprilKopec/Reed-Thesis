{
  "cells": [
    {
      "cell_type": "markdown",
      "metadata": {},
      "source": [
        "We're gonna have some basic setup before we get to the focus.\n",
        "Here we define the models and make a couple auxiliary functions:"
      ]
    },
    {
      "cell_type": "code",
      "execution_count": 1,
      "metadata": {
        "trusted": true
      },
      "outputs": [],
      "source": [
        "import numpy as np\n",
        "import matplotlib.pyplot as plt\n",
        "\n",
        "# Defining linear and logistic models\n",
        "def linear(x, slope, intercept):\n",
        "    return slope*x + intercept\n",
        "\n",
        "def logit(p):\n",
        "    return np.log(p/(1-p))\n",
        "\n",
        "def inv_logit(alpha):\n",
        "    return np.exp(alpha)/(np.exp(alpha)+1)\n",
        "\n",
        "def logistic(x, beta_0, beta_1):\n",
        "    return inv_logit(linear(x, beta_0, beta_1))\n",
        "\n"
      ]
    },
    {
      "cell_type": "code",
      "execution_count": 2,
      "metadata": {},
      "outputs": [],
      "source": [
        "# Calculate the gradient of vector feld f at v\n",
        "def gradient(f, v):\n",
        "    differential_length: float = 2**-16 # this can be adjusted\n",
        "\n",
        "    n = len(v)\n",
        "    grad = np.zeros(n)\n",
        "\n",
        "    # I wonder if numpy has a better way to do this?\n",
        "    for i in range(len(v)):\n",
        "        d = np.zeros(n)\n",
        "        d[i] = differential_length\n",
        "        directional_derivative = (f(v+d/2) - f(v-d/2))/differential_length\n",
        "        grad[i] = directional_derivative\n",
        "    return grad"
      ]
    },
    {
      "cell_type": "markdown",
      "metadata": {},
      "source": [
        "And here are parameters to decide what model we're using. **Edit this section** if you want to test with a different model."
      ]
    },
    {
      "cell_type": "code",
      "execution_count": 3,
      "metadata": {
        "trusted": true
      },
      "outputs": [],
      "source": [
        "# These can be changed to run different tests\n",
        "# You need to change the loss function below also\n",
        "model = linear\n",
        "step_size = 2**-12\n",
        "epoch_count = 2**14\n",
        "\n",
        "# This gets the parameter count of the model\n",
        "# (Which is one less than the number of arguments that model takes, since one of the arguments is the input vector)\n",
        "import inspect\n",
        "param_count = len(inspect.signature(model).parameters) - 1"
      ]
    },
    {
      "cell_type": "code",
      "execution_count": 4,
      "metadata": {},
      "outputs": [],
      "source": [
        "# Defining the loss function\n",
        "def squared_error(params, x, y):\n",
        "    squared_error = (model(x, *params) - y)**2\n",
        "    return squared_error\n",
        "\n",
        "def log_loss(params, x, y):\n",
        "    prob = model(x, *params)\n",
        "    if y:\n",
        "        return -np.log(prob)\n",
        "    else:\n",
        "        return -np.log(1-prob)\n",
        "\n",
        "def mean_loss(pointwise_loss):\n",
        "    def f(params, xdata, ydata, weights = None):\n",
        "        n = len(xdata)\n",
        "        if weights is None:\n",
        "            weights = [1] * n\n",
        "        losses = [pointwise_loss(params, xdata[i], ydata[i])*weights[i] for i in range(n)]\n",
        "        return sum(losses)/n\n",
        "    return f\n",
        "\n",
        "\n",
        "default_loss = mean_loss(squared_error)"
      ]
    },
    {
      "cell_type": "code",
      "execution_count": 5,
      "metadata": {},
      "outputs": [],
      "source": [
        "\n",
        "# These determine the training data\n",
        "xdata = np.array([0, 1, 2])\n",
        "ydata = np.array([0, 1.5, 2])"
      ]
    },
    {
      "cell_type": "markdown",
      "metadata": {},
      "source": [
        "Here's the code for training the model using gradient descent:"
      ]
    },
    {
      "cell_type": "code",
      "execution_count": 6,
      "metadata": {},
      "outputs": [],
      "source": [
        "def gradient_descent(params, xdata, ydata, weights = None, loss = default_loss):\n",
        "    f = lambda theta: loss(theta, xdata, ydata, weights)\n",
        "    for _ in range(epoch_count):\n",
        "        grad = gradient(f, params)\n",
        "        params -= grad*step_size\n",
        "    return params"
      ]
    },
    {
      "cell_type": "markdown",
      "metadata": {},
      "source": [
        "This is the response function.\n",
        "The response function calculates the parameters which result from retraining with an additional datapoint *new* that is weighted by some amount *epsilon*."
      ]
    },
    {
      "cell_type": "code",
      "execution_count": 7,
      "metadata": {
        "trusted": true
      },
      "outputs": [],
      "source": [
        "# Influence functions are defined as the first-order Taylor approximation of this around epsilon = 0\n",
        "# Or maybe the derivative if it's more convenient to subtract off the value at 0, I think I've seen both definitions\n",
        "def response_function(new_data, epsilon, xdata, ydata, loss = default_loss):\n",
        "    newxdata = np.concatenate((np.array([new_data[0]]), xdata))\n",
        "    newydata = np.concatenate((np.array([new_data[1]]), ydata))\n",
        "    weights = np.array([epsilon] + [1 for _ in xdata])\n",
        "    params = gradient_descent(np.zeros(param_count), newxdata, newydata, weights, loss)\n",
        "    return params"
      ]
    },
    {
      "cell_type": "markdown",
      "metadata": {},
      "source": [
        "Here's the influence function (on the parameters). It's the derivative of the response function."
      ]
    },
    {
      "cell_type": "code",
      "execution_count": 8,
      "metadata": {},
      "outputs": [],
      "source": [
        "def influence(z, epsilon, rf = response_function):\n",
        "    a = rf(z, epsilon/2, xdata, ydata)\n",
        "    b = rf(z, -epsilon/2, xdata, ydata)\n",
        "    return (a-b)/epsilon"
      ]
    },
    {
      "cell_type": "markdown",
      "metadata": {},
      "source": [
        "This takes training data and creates a model. It then calculates the influence of each point in the training data on the model, and plots the estimated result of doubling the weighting of any of the training data points."
      ]
    },
    {
      "cell_type": "code",
      "execution_count": 13,
      "metadata": {},
      "outputs": [
        {
          "name": "stdout",
          "output_type": "stream",
          "text": [
            "Initial model: [0.95079561 0.23493319]\n",
            "Influence of (0, 0): [ 0.11785664 -0.19758067]\n",
            "Influence of (1, 1.5): [0.00653221 0.09485577]\n",
            "Influence of (2, 2): [-0.04193561 -0.01165957]\n"
          ]
        },
        {
          "data": {
            "image/png": "[encoded data removed]",
            "text/plain": [
              "<Figure size 640x480 with 1 Axes>"
            ]
          },
          "metadata": {},
          "output_type": "display_data"
        }
      ],
      "source": [
        "colors = ['red', 'orange', 'blue', 'green', 'purple', 'cyan', 'magenta', 'darkorange', 'lime', 'slateblue', 'darkkhaki', 'seagreen']\n",
        "\n",
        "# epsilon is the step used when calculating the influence\n",
        "epsilon = 0.001\n",
        "# delta is the amount the model is adjusted in the direction of one of the influences for the plots\n",
        "# Setting delta to 1 doubles the weighting, setting it to -1 sets the weighting to 0.\n",
        "delta = -1\n",
        "\n",
        "# Z is the training data\n",
        "Z = [(0,0), (1,1.5), (2,2)]\n",
        "n = len(Z)\n",
        "\n",
        "# This code all makes the plot\n",
        "M0 = response_function(Z[0], 0, xdata, ydata)\n",
        "print(f'Initial model: {M0}')\n",
        "influences = np.array([influence(z, epsilon) for z in Z])\n",
        "\n",
        "for i in range(n):\n",
        "    print(f'Influence of {Z[i]}: {influences[i]}')\n",
        "\n",
        "linspace = np.linspace(xdata.min(), xdata.max(), 500)\n",
        "\n",
        "responses = M0 + influences*delta\n",
        "\n",
        "plt.plot(linspace, model(linspace, *M0), color='black',linewidth=2, label=\"Initial Model\")\n",
        "for i in range(n):\n",
        "    plt.plot(linspace, model(linspace, *responses[i]), color=colors[i], linewidth=1, label=f\"$\\hat\\\\theta + ({delta})\\mathcal{{I}}{Z[i]}$\")\n",
        "\n",
        "\n",
        "plt.scatter(xdata,ydata)\n",
        "plt.legend()\n",
        "plt.show()"
      ]
    },
    {
      "cell_type": "code",
      "execution_count": 14,
      "metadata": {},
      "outputs": [
        {
          "name": "stdout",
          "output_type": "stream",
          "text": [
            "-0.13120544192640377\n",
            "Cost Influence of (0, 0) on (0, 0):\n",
            "-0.04716392861213299\n",
            "Cost Influence of (0, 0) on (1, 1.5):\n",
            "0.0374848913334374\n",
            "Cost Influence of (0, 0) on (2, 2):\n",
            "0.009495262163364715\n",
            "Cost Influence of (1, 1.5) on (0, 0):\n",
            "0.03702740217143974\n",
            "Cost Influence of (1, 1.5) on (1, 1.5):\n",
            "-0.07386963571736015\n",
            "Cost Influence of (1, 1.5) on (2, 2):\n",
            "0.03685298276811481\n",
            "Cost Influence of (2, 2) on (0, 0):\n",
            "0.009103179214047272\n",
            "Cost Influence of (2, 2) on (1, 1.5):\n",
            "0.03687138332158968\n",
            "Cost Influence of (2, 2) on (2, 2):\n",
            "-0.04580656857786415\n"
          ]
        }
      ],
      "source": [
        "# Calculates the influence of z1 on the loss on z2\n",
        "# This is a directional derivative of loss on z2 in the direction of the influence of z1 \n",
        "def loss_influence(params, z1, z2, epsilon):\n",
        "    point_loss = lambda theta: default_loss(theta, z2[0], z2[1])\n",
        "    grad = gradient(point_loss, params)\n",
        "    return np.dot(grad, influence(z1, epsilon))\n",
        "\n",
        "print(loss_influence(M0, (0,0), (1,0), epsilon))\n",
        "\n",
        "data = [(0, 0), (1, 1.5), (2, 2)]\n",
        "\n",
        "for i in range(3):\n",
        "    for j in range(3):\n",
        "        print(f'Cost Influence of {data[i]} on {data[j]}:')\n",
        "        print(loss_influence(M0, data[i], data[j], epsilon))"
      ]
    },
    {
      "cell_type": "markdown",
      "metadata": {},
      "source": [
        "PBRF"
      ]
    },
    {
      "cell_type": "code",
      "execution_count": 35,
      "metadata": {},
      "outputs": [
        {
          "ename": "TypeError",
          "evalue": "object of type 'numpy.int32' has no len()",
          "output_type": "error",
          "traceback": [
            "\u001b[1;31m---------------------------------------------------------------------------\u001b[0m",
            "\u001b[1;31mTypeError\u001b[0m                                 Traceback (most recent call last)",
            "\u001b[1;32mc:\\Users\\april\\School\\Reed-Thesis\\Influence Function\\Influence Functions.ipynb Cell 18\u001b[0m line \u001b[0;36m4\n\u001b[0;32m     <a href='vscode-notebook-cell:/c%3A/Users/april/School/Reed-Thesis/Influence%20Function/Influence%20Functions.ipynb#X23sZmlsZQ%3D%3D?line=38'>39</a>\u001b[0m     params \u001b[39m=\u001b[39m gradient_descent(np\u001b[39m.\u001b[39mzeros(param_count), newxdata, newydata, weights, f)\n\u001b[0;32m     <a href='vscode-notebook-cell:/c%3A/Users/april/School/Reed-Thesis/Influence%20Function/Influence%20Functions.ipynb#X23sZmlsZQ%3D%3D?line=39'>40</a>\u001b[0m     \u001b[39mreturn\u001b[39;00m params\n\u001b[1;32m---> <a href='vscode-notebook-cell:/c%3A/Users/april/School/Reed-Thesis/Influence%20Function/Influence%20Functions.ipynb#X23sZmlsZQ%3D%3D?line=41'>42</a>\u001b[0m \u001b[39mprint\u001b[39m(pbrf(z1, \u001b[39m1\u001b[39;49m, xdata, ydata))\n",
            "\u001b[1;32mc:\\Users\\april\\School\\Reed-Thesis\\Influence Function\\Influence Functions.ipynb Cell 18\u001b[0m line \u001b[0;36m3\n\u001b[0;32m     <a href='vscode-notebook-cell:/c%3A/Users/april/School/Reed-Thesis/Influence%20Function/Influence%20Functions.ipynb#X23sZmlsZQ%3D%3D?line=36'>37</a>\u001b[0m weights \u001b[39m=\u001b[39m np\u001b[39m.\u001b[39marray([epsilon] \u001b[39m+\u001b[39m [\u001b[39m1\u001b[39m \u001b[39mfor\u001b[39;00m _ \u001b[39min\u001b[39;00m xdata])\n\u001b[0;32m     <a href='vscode-notebook-cell:/c%3A/Users/april/School/Reed-Thesis/Influence%20Function/Influence%20Functions.ipynb#X23sZmlsZQ%3D%3D?line=37'>38</a>\u001b[0m f \u001b[39m=\u001b[39m \u001b[39mlambda\u001b[39;00m params, xdata, ydata, weights: proximal_bregman_objective(params, xdata, ydata, new_data, epsilon)\n\u001b[1;32m---> <a href='vscode-notebook-cell:/c%3A/Users/april/School/Reed-Thesis/Influence%20Function/Influence%20Functions.ipynb#X23sZmlsZQ%3D%3D?line=38'>39</a>\u001b[0m params \u001b[39m=\u001b[39m gradient_descent(np\u001b[39m.\u001b[39;49mzeros(param_count), newxdata, newydata, weights, f)\n\u001b[0;32m     <a href='vscode-notebook-cell:/c%3A/Users/april/School/Reed-Thesis/Influence%20Function/Influence%20Functions.ipynb#X23sZmlsZQ%3D%3D?line=39'>40</a>\u001b[0m \u001b[39mreturn\u001b[39;00m params\n",
            "\u001b[1;32mc:\\Users\\april\\School\\Reed-Thesis\\Influence Function\\Influence Functions.ipynb Cell 18\u001b[0m line \u001b[0;36m4\n\u001b[0;32m      <a href='vscode-notebook-cell:/c%3A/Users/april/School/Reed-Thesis/Influence%20Function/Influence%20Functions.ipynb#X23sZmlsZQ%3D%3D?line=1'>2</a>\u001b[0m f \u001b[39m=\u001b[39m \u001b[39mlambda\u001b[39;00m theta: loss(theta, xdata, ydata, weights)\n\u001b[0;32m      <a href='vscode-notebook-cell:/c%3A/Users/april/School/Reed-Thesis/Influence%20Function/Influence%20Functions.ipynb#X23sZmlsZQ%3D%3D?line=2'>3</a>\u001b[0m \u001b[39mfor\u001b[39;00m _ \u001b[39min\u001b[39;00m \u001b[39mrange\u001b[39m(epoch_count):\n\u001b[1;32m----> <a href='vscode-notebook-cell:/c%3A/Users/april/School/Reed-Thesis/Influence%20Function/Influence%20Functions.ipynb#X23sZmlsZQ%3D%3D?line=3'>4</a>\u001b[0m     grad \u001b[39m=\u001b[39m gradient(f, params)\n\u001b[0;32m      <a href='vscode-notebook-cell:/c%3A/Users/april/School/Reed-Thesis/Influence%20Function/Influence%20Functions.ipynb#X23sZmlsZQ%3D%3D?line=4'>5</a>\u001b[0m     params \u001b[39m-\u001b[39m\u001b[39m=\u001b[39m grad\u001b[39m*\u001b[39mstep_size\n\u001b[0;32m      <a href='vscode-notebook-cell:/c%3A/Users/april/School/Reed-Thesis/Influence%20Function/Influence%20Functions.ipynb#X23sZmlsZQ%3D%3D?line=5'>6</a>\u001b[0m \u001b[39mreturn\u001b[39;00m params\n",
            "\u001b[1;32mc:\\Users\\april\\School\\Reed-Thesis\\Influence Function\\Influence Functions.ipynb Cell 18\u001b[0m line \u001b[0;36m1\n\u001b[0;32m     <a href='vscode-notebook-cell:/c%3A/Users/april/School/Reed-Thesis/Influence%20Function/Influence%20Functions.ipynb#X23sZmlsZQ%3D%3D?line=9'>10</a>\u001b[0m     d \u001b[39m=\u001b[39m np\u001b[39m.\u001b[39mzeros(n)\n\u001b[0;32m     <a href='vscode-notebook-cell:/c%3A/Users/april/School/Reed-Thesis/Influence%20Function/Influence%20Functions.ipynb#X23sZmlsZQ%3D%3D?line=10'>11</a>\u001b[0m     d[i] \u001b[39m=\u001b[39m differential_length\n\u001b[1;32m---> <a href='vscode-notebook-cell:/c%3A/Users/april/School/Reed-Thesis/Influence%20Function/Influence%20Functions.ipynb#X23sZmlsZQ%3D%3D?line=11'>12</a>\u001b[0m     directional_derivative \u001b[39m=\u001b[39m (f(v\u001b[39m+\u001b[39;49md\u001b[39m/\u001b[39;49m\u001b[39m2\u001b[39;49m) \u001b[39m-\u001b[39m f(v\u001b[39m-\u001b[39md\u001b[39m/\u001b[39m\u001b[39m2\u001b[39m))\u001b[39m/\u001b[39mdifferential_length\n\u001b[0;32m     <a href='vscode-notebook-cell:/c%3A/Users/april/School/Reed-Thesis/Influence%20Function/Influence%20Functions.ipynb#X23sZmlsZQ%3D%3D?line=12'>13</a>\u001b[0m     grad[i] \u001b[39m=\u001b[39m directional_derivative\n\u001b[0;32m     <a href='vscode-notebook-cell:/c%3A/Users/april/School/Reed-Thesis/Influence%20Function/Influence%20Functions.ipynb#X23sZmlsZQ%3D%3D?line=13'>14</a>\u001b[0m \u001b[39mreturn\u001b[39;00m grad\n",
            "\u001b[1;32mc:\\Users\\april\\School\\Reed-Thesis\\Influence Function\\Influence Functions.ipynb Cell 18\u001b[0m line \u001b[0;36m2\n\u001b[0;32m      <a href='vscode-notebook-cell:/c%3A/Users/april/School/Reed-Thesis/Influence%20Function/Influence%20Functions.ipynb#X23sZmlsZQ%3D%3D?line=0'>1</a>\u001b[0m \u001b[39mdef\u001b[39;00m \u001b[39mgradient_descent\u001b[39m(params, xdata, ydata, weights \u001b[39m=\u001b[39m \u001b[39mNone\u001b[39;00m, loss \u001b[39m=\u001b[39m default_loss):\n\u001b[1;32m----> <a href='vscode-notebook-cell:/c%3A/Users/april/School/Reed-Thesis/Influence%20Function/Influence%20Functions.ipynb#X23sZmlsZQ%3D%3D?line=1'>2</a>\u001b[0m     f \u001b[39m=\u001b[39m \u001b[39mlambda\u001b[39;00m theta: loss(theta, xdata, ydata, weights)\n\u001b[0;32m      <a href='vscode-notebook-cell:/c%3A/Users/april/School/Reed-Thesis/Influence%20Function/Influence%20Functions.ipynb#X23sZmlsZQ%3D%3D?line=2'>3</a>\u001b[0m     \u001b[39mfor\u001b[39;00m _ \u001b[39min\u001b[39;00m \u001b[39mrange\u001b[39m(epoch_count):\n\u001b[0;32m      <a href='vscode-notebook-cell:/c%3A/Users/april/School/Reed-Thesis/Influence%20Function/Influence%20Functions.ipynb#X23sZmlsZQ%3D%3D?line=3'>4</a>\u001b[0m         grad \u001b[39m=\u001b[39m gradient(f, params)\n",
            "\u001b[1;32mc:\\Users\\april\\School\\Reed-Thesis\\Influence Function\\Influence Functions.ipynb Cell 18\u001b[0m line \u001b[0;36m3\n\u001b[0;32m     <a href='vscode-notebook-cell:/c%3A/Users/april/School/Reed-Thesis/Influence%20Function/Influence%20Functions.ipynb#X23sZmlsZQ%3D%3D?line=35'>36</a>\u001b[0m newydata \u001b[39m=\u001b[39m np\u001b[39m.\u001b[39mconcatenate((np\u001b[39m.\u001b[39marray([new_data[\u001b[39m1\u001b[39m]]), ydata))\n\u001b[0;32m     <a href='vscode-notebook-cell:/c%3A/Users/april/School/Reed-Thesis/Influence%20Function/Influence%20Functions.ipynb#X23sZmlsZQ%3D%3D?line=36'>37</a>\u001b[0m weights \u001b[39m=\u001b[39m np\u001b[39m.\u001b[39marray([epsilon] \u001b[39m+\u001b[39m [\u001b[39m1\u001b[39m \u001b[39mfor\u001b[39;00m _ \u001b[39min\u001b[39;00m xdata])\n\u001b[1;32m---> <a href='vscode-notebook-cell:/c%3A/Users/april/School/Reed-Thesis/Influence%20Function/Influence%20Functions.ipynb#X23sZmlsZQ%3D%3D?line=37'>38</a>\u001b[0m f \u001b[39m=\u001b[39m \u001b[39mlambda\u001b[39;00m params, xdata, ydata, weights: proximal_bregman_objective(params, xdata, ydata, new_data, epsilon)\n\u001b[0;32m     <a href='vscode-notebook-cell:/c%3A/Users/april/School/Reed-Thesis/Influence%20Function/Influence%20Functions.ipynb#X23sZmlsZQ%3D%3D?line=38'>39</a>\u001b[0m params \u001b[39m=\u001b[39m gradient_descent(np\u001b[39m.\u001b[39mzeros(param_count), newxdata, newydata, weights, f)\n\u001b[0;32m     <a href='vscode-notebook-cell:/c%3A/Users/april/School/Reed-Thesis/Influence%20Function/Influence%20Functions.ipynb#X23sZmlsZQ%3D%3D?line=39'>40</a>\u001b[0m \u001b[39mreturn\u001b[39;00m params\n",
            "\u001b[1;32mc:\\Users\\april\\School\\Reed-Thesis\\Influence Function\\Influence Functions.ipynb Cell 18\u001b[0m line \u001b[0;36m2\n\u001b[0;32m     <a href='vscode-notebook-cell:/c%3A/Users/april/School/Reed-Thesis/Influence%20Function/Influence%20Functions.ipynb#X23sZmlsZQ%3D%3D?line=23'>24</a>\u001b[0m \u001b[39mfor\u001b[39;00m i \u001b[39min\u001b[39;00m \u001b[39mrange\u001b[39m(N):\n\u001b[0;32m     <a href='vscode-notebook-cell:/c%3A/Users/april/School/Reed-Thesis/Influence%20Function/Influence%20Functions.ipynb#X23sZmlsZQ%3D%3D?line=24'>25</a>\u001b[0m     Li \u001b[39m=\u001b[39m \u001b[39mlambda\u001b[39;00m params: default_loss(params, xdata[i], ydata[i])\n\u001b[1;32m---> <a href='vscode-notebook-cell:/c%3A/Users/april/School/Reed-Thesis/Influence%20Function/Influence%20Functions.ipynb#X23sZmlsZQ%3D%3D?line=25'>26</a>\u001b[0m     term1 \u001b[39m+\u001b[39m\u001b[39m=\u001b[39m bregman_divergence(Li, params, final_params)\n\u001b[0;32m     <a href='vscode-notebook-cell:/c%3A/Users/april/School/Reed-Thesis/Influence%20Function/Influence%20Functions.ipynb#X23sZmlsZQ%3D%3D?line=26'>27</a>\u001b[0m term1 \u001b[39m/\u001b[39m\u001b[39m=\u001b[39m N\n\u001b[0;32m     <a href='vscode-notebook-cell:/c%3A/Users/april/School/Reed-Thesis/Influence%20Function/Influence%20Functions.ipynb#X23sZmlsZQ%3D%3D?line=28'>29</a>\u001b[0m term2 \u001b[39m=\u001b[39m epsilon \u001b[39m*\u001b[39m default_loss(params, new_data[\u001b[39m0\u001b[39m], new_data[\u001b[39m1\u001b[39m])\n",
            "\u001b[1;32mc:\\Users\\april\\School\\Reed-Thesis\\Influence Function\\Influence Functions.ipynb Cell 18\u001b[0m line \u001b[0;36m1\n\u001b[0;32m      <a href='vscode-notebook-cell:/c%3A/Users/april/School/Reed-Thesis/Influence%20Function/Influence%20Functions.ipynb#X23sZmlsZQ%3D%3D?line=7'>8</a>\u001b[0m \u001b[39mdir\u001b[39m \u001b[39m=\u001b[39m (p\u001b[39m-\u001b[39mq) \u001b[39m/\u001b[39m dist\n\u001b[0;32m     <a href='vscode-notebook-cell:/c%3A/Users/april/School/Reed-Thesis/Influence%20Function/Influence%20Functions.ipynb#X23sZmlsZQ%3D%3D?line=9'>10</a>\u001b[0m dx \u001b[39m=\u001b[39m \u001b[39mdir\u001b[39m\u001b[39m*\u001b[39md\n\u001b[1;32m---> <a href='vscode-notebook-cell:/c%3A/Users/april/School/Reed-Thesis/Influence%20Function/Influence%20Functions.ipynb#X23sZmlsZQ%3D%3D?line=10'>11</a>\u001b[0m dir_derivative \u001b[39m=\u001b[39m (F(q\u001b[39m+\u001b[39;49mdx\u001b[39m/\u001b[39;49m\u001b[39m2\u001b[39;49m)\u001b[39m-\u001b[39mF(q\u001b[39m-\u001b[39mdx\u001b[39m/\u001b[39m\u001b[39m2\u001b[39m))\u001b[39m/\u001b[39md\n\u001b[0;32m     <a href='vscode-notebook-cell:/c%3A/Users/april/School/Reed-Thesis/Influence%20Function/Influence%20Functions.ipynb#X23sZmlsZQ%3D%3D?line=12'>13</a>\u001b[0m \u001b[39mreturn\u001b[39;00m F(p) \u001b[39m-\u001b[39m (F(q) \u001b[39m+\u001b[39m dir_derivative\u001b[39m*\u001b[39mdist)\n",
            "\u001b[1;32mc:\\Users\\april\\School\\Reed-Thesis\\Influence Function\\Influence Functions.ipynb Cell 18\u001b[0m line \u001b[0;36m2\n\u001b[0;32m     <a href='vscode-notebook-cell:/c%3A/Users/april/School/Reed-Thesis/Influence%20Function/Influence%20Functions.ipynb#X23sZmlsZQ%3D%3D?line=22'>23</a>\u001b[0m term1 \u001b[39m=\u001b[39m \u001b[39m0\u001b[39m\n\u001b[0;32m     <a href='vscode-notebook-cell:/c%3A/Users/april/School/Reed-Thesis/Influence%20Function/Influence%20Functions.ipynb#X23sZmlsZQ%3D%3D?line=23'>24</a>\u001b[0m \u001b[39mfor\u001b[39;00m i \u001b[39min\u001b[39;00m \u001b[39mrange\u001b[39m(N):\n\u001b[1;32m---> <a href='vscode-notebook-cell:/c%3A/Users/april/School/Reed-Thesis/Influence%20Function/Influence%20Functions.ipynb#X23sZmlsZQ%3D%3D?line=24'>25</a>\u001b[0m     Li \u001b[39m=\u001b[39m \u001b[39mlambda\u001b[39;00m params: default_loss(params, xdata[i], ydata[i])\n\u001b[0;32m     <a href='vscode-notebook-cell:/c%3A/Users/april/School/Reed-Thesis/Influence%20Function/Influence%20Functions.ipynb#X23sZmlsZQ%3D%3D?line=25'>26</a>\u001b[0m     term1 \u001b[39m+\u001b[39m\u001b[39m=\u001b[39m bregman_divergence(Li, params, final_params)\n\u001b[0;32m     <a href='vscode-notebook-cell:/c%3A/Users/april/School/Reed-Thesis/Influence%20Function/Influence%20Functions.ipynb#X23sZmlsZQ%3D%3D?line=26'>27</a>\u001b[0m term1 \u001b[39m/\u001b[39m\u001b[39m=\u001b[39m N\n",
            "\u001b[1;32mc:\\Users\\april\\School\\Reed-Thesis\\Influence Function\\Influence Functions.ipynb Cell 18\u001b[0m line \u001b[0;36m1\n\u001b[0;32m     <a href='vscode-notebook-cell:/c%3A/Users/april/School/Reed-Thesis/Influence%20Function/Influence%20Functions.ipynb#X23sZmlsZQ%3D%3D?line=13'>14</a>\u001b[0m \u001b[39mdef\u001b[39;00m \u001b[39mf\u001b[39m(params, xdata, ydata, weights \u001b[39m=\u001b[39m \u001b[39mNone\u001b[39;00m):\n\u001b[1;32m---> <a href='vscode-notebook-cell:/c%3A/Users/april/School/Reed-Thesis/Influence%20Function/Influence%20Functions.ipynb#X23sZmlsZQ%3D%3D?line=14'>15</a>\u001b[0m     n \u001b[39m=\u001b[39m \u001b[39mlen\u001b[39m(xdata)\n\u001b[0;32m     <a href='vscode-notebook-cell:/c%3A/Users/april/School/Reed-Thesis/Influence%20Function/Influence%20Functions.ipynb#X23sZmlsZQ%3D%3D?line=15'>16</a>\u001b[0m     \u001b[39mif\u001b[39;00m weights \u001b[39mis\u001b[39;00m \u001b[39mNone\u001b[39;00m:\n\u001b[0;32m     <a href='vscode-notebook-cell:/c%3A/Users/april/School/Reed-Thesis/Influence%20Function/Influence%20Functions.ipynb#X23sZmlsZQ%3D%3D?line=16'>17</a>\u001b[0m         weights \u001b[39m=\u001b[39m [\u001b[39m1\u001b[39m] \u001b[39m*\u001b[39m n\n",
            "\u001b[1;31mTypeError\u001b[0m: object of type 'numpy.int32' has no len()"
          ]
        }
      ],
      "source": [
        "# Given a function F:Theta->R and points p, q in Theta,\n",
        "# the Bregman divergence gives the difference between F(p)\n",
        "# and the first-order taylor approximation of F(p) around q\n",
        "def bregman_divergence(F, p, q):\n",
        "    d: float = 2**-16 # This can be changed if we need more precision\n",
        "\n",
        "    dist = np.linalg.norm(p-q)\n",
        "    dir = (p-q) / dist\n",
        "\n",
        "    dx = dir*d\n",
        "    dir_derivative = (F(q+dx/2)-F(q-dx/2))/d\n",
        "\n",
        "    return F(p) - (F(q) + dir_derivative*dist)\n",
        "\n",
        "final_params = np.array([1, 2])\n",
        "\n",
        "# This is just directly copied from the Anthropic paper's\n",
        "# definition of the proximal Bregman objective.\n",
        "def proximal_bregman_objective(params, xdata, ydata, new_data, epsilon):\n",
        "    damping: float = 2**-8 # \"lambda\" is a reserved code word :|\n",
        "    N = len(xdata)\n",
        "\n",
        "    term1 = 0\n",
        "    for i in range(N):\n",
        "        Li = lambda params: default_loss(params, xdata, ydata)\n",
        "        term1 += bregman_divergence(Li, params, final_params)\n",
        "    term1 /= N\n",
        "\n",
        "    term2 = epsilon * default_loss(params, new_data[0], new_data[1])\n",
        "    term3 = (damping/2) * np.linalg.norm(params - final_params)\n",
        "\n",
        "    return term1 + term2 + term3\n",
        "\n",
        "def pbrf(new_data, epsilon, xdata, ydata):\n",
        "    newxdata = np.concatenate((np.array([new_data[0]]), xdata))\n",
        "    newydata = np.concatenate((np.array([new_data[1]]), ydata))\n",
        "    weights = np.array([epsilon] + [1 for _ in xdata])\n",
        "    f = lambda params, xdata, ydata, weights: proximal_bregman_objective(params, xdata, ydata, new_data, epsilon)\n",
        "    params = gradient_descent(np.zeros(param_count), newxdata, newydata, weights, f)\n",
        "    return params\n",
        "\n",
        "print(pbrf(z1, 1, xdata, ydata))"
      ]
    }
  ],
  "metadata": {
    "kernelspec": {
      "display_name": "venv",
      "language": "python",
      "name": "python3"
    },
    "language_info": {
      "codemirror_mode": {
        "name": "ipython",
        "version": 3
      },
      "file_extension": ".py",
      "mimetype": "text/x-python",
      "name": "python",
      "nbconvert_exporter": "python",
      "pygments_lexer": "ipython3",
      "version": "3.11.4"
    }
  },
  "nbformat": 4,
  "nbformat_minor": 4
}
